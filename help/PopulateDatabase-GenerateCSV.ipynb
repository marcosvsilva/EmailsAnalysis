{
 "cells": [
  {
   "cell_type": "markdown",
   "id": "9ee673d4",
   "metadata": {},
   "source": [
    "# Script to populate database - 1st part;\n",
    "\n",
    "## Generate CSV\n",
    "\n",
    "This script will generate CSV with all emails in Gmail account following the tags of subjects."
   ]
  },
  {
   "cell_type": "markdown",
   "id": "015585ef",
   "metadata": {},
   "source": [
    "## Set external variables"
   ]
  },
  {
   "cell_type": "code",
   "execution_count": null,
   "id": "8817e542",
   "metadata": {},
   "outputs": [],
   "source": [
    "# number of years to get history emails;\n",
    "n_years = 30\n",
    "\n",
    "# email user;\n",
    "user = ''\n",
    "\n",
    "# list tags of email;\n",
    "tags = ['GestNFe', 'StacNFe', 'StacCTe']"
   ]
  },
  {
   "cell_type": "markdown",
   "id": "89f757f6",
   "metadata": {},
   "source": [
    "## Script"
   ]
  },
  {
   "cell_type": "markdown",
   "id": "dede3ffb",
   "metadata": {},
   "source": [
    "### Librarys"
   ]
  },
  {
   "cell_type": "code",
   "execution_count": null,
   "id": "ad5411c9",
   "metadata": {},
   "outputs": [],
   "source": [
    "import pandas as pd\n",
    "import numpy as np\n",
    "from simplegmail import Gmail\n",
    "from simplegmail.message import Message\n",
    "from simplegmail.query import construct_query"
   ]
  },
  {
   "cell_type": "markdown",
   "id": "6fd9ca72",
   "metadata": {},
   "source": [
    "### Functions"
   ]
  },
  {
   "cell_type": "code",
   "execution_count": null,
   "id": "c204788e",
   "metadata": {},
   "outputs": [],
   "source": [
    "def get_name_system(row_name):\n",
    "    system = row_name\n",
    "    if 'StacNFe' in row_name:\n",
    "        system = 'StacNFe'\n",
    "    elif 'StacCTe' in row_name:\n",
    "        system = 'StacCTe'\n",
    "    elif 'GestNFe' in row_name:\n",
    "        system = 'GestNFe'\n",
    "    elif 'NFe' in row_name:\n",
    "        system = 'StacNFe'\n",
    "        \n",
    "    return system"
   ]
  },
  {
   "cell_type": "markdown",
   "id": "defaa7c4",
   "metadata": {},
   "source": [
    "### Script"
   ]
  },
  {
   "cell_type": "code",
   "execution_count": null,
   "id": "b159ddeb",
   "metadata": {},
   "outputs": [],
   "source": [
    "gmail = Gmail()\n",
    "\n",
    "messages = []\n",
    "for tag in tags:\n",
    "    query_params = {\n",
    "        \"newer_than\": (n_years, 'year'),\n",
    "        \"subject\": tag,\n",
    "    }\n",
    "    \n",
    "    lmessages = gmail.get_messages(user_id=user, query=construct_query(query_params))\n",
    "    messages.append([x.html for x in lmessages])"
   ]
  },
  {
   "cell_type": "code",
   "execution_count": null,
   "id": "c8d2da29",
   "metadata": {},
   "outputs": [],
   "source": [
    "for i in range(len(tags)):\n",
    "    print('Tag {} has {} registers!'.format(tags[i], len(messages[i])))"
   ]
  },
  {
   "cell_type": "code",
   "execution_count": null,
   "id": "8dad2a15",
   "metadata": {
    "scrolled": false
   },
   "outputs": [],
   "source": [
    "data = []\n",
    "for tag_message in messages:\n",
    "    for message in tag_message:\n",
    "        if (message is not None) and ('Razão Social' in message):\n",
    "            message_lines = message.split('\\r\\n')\n",
    "            \n",
    "            if 'Nota Fiscal' in message_lines[2]:\n",
    "                tags_message =  ['Nota Fiscal', 'Serie', 'Chave Nfe', 'Data Emissão', 'Razão Social',\n",
    "                                 'Nome Fanta', 'Cnpj', 'Endereço', 'Bairro', 'Cidade']                            \n",
    "            elif 'NFC-e' in message_lines[2]:\n",
    "                tags_message = ['NFC-e', 'Serie', 'Chave NFC-e', 'Data Emissão', 'Razão Social',\n",
    "                                'Nome Fanta', 'Cnpj', 'Endereço', 'Bairro', 'Cidade']\n",
    "            elif 'NF-e' in message_lines[2]:\n",
    "                tags_message = ['NF-e', 'Serie', 'Chave NF-e', 'Data Emissão', 'Razão Social',\n",
    "                                'Nome Fanta', 'Cnpj', 'Endereço', 'Bairro', 'Cidade']\n",
    "            elif 'CTe' in message_lines[2]:\n",
    "                tags_message = ['CTe', 'Serie', 'Chave CTe', 'Data Emissão', 'Razão Social',\n",
    "                                'Nome Fanta', 'Cnpj', 'Endereço', 'Bairro', 'Cidade']\n",
    "            else:\n",
    "                print(\"Tags does't found, list message: {}\".format(' '.join(message_lines)))\n",
    "            \n",
    "            data_locale = {'system': get_name_system(message_lines[0])}\n",
    "            \n",
    "            for tag in tags_message:\n",
    "                for line in message_lines:\n",
    "                    if (tag in line):\n",
    "                        if ('Chave' not in line) or (('Chave' in tag) and ('Chave' in line)):\n",
    "                            data_locale.update({tag: line[line.find(':')+2:len(line)]})\n",
    "            \n",
    "            data.append(data_locale)"
   ]
  },
  {
   "cell_type": "code",
   "execution_count": null,
   "id": "8339f31c",
   "metadata": {},
   "outputs": [],
   "source": [
    "df_list = []\n",
    "for d in data:\n",
    "    values = list(d.values())\n",
    "    \n",
    "    if len(values) < 11:\n",
    "        print('Fail in register!\\nFields:\\n{}\\nValues:\\n{}!'.format(', '.join(list(d.keys())),\n",
    "                                                                 ', '.join(list(d.values()))))\n",
    "        \n",
    "    type_d = 'Undefined'\n",
    "    if list(d.keys())[1].upper() in ['NOTA FISCAL', 'NF-E']:\n",
    "        type_d = 'NF-e'\n",
    "    elif list(d.keys())[1].upper() in ['NFC-E']:\n",
    "        type_d = 'NFC-e'\n",
    "    elif list(d.keys())[1].upper() in ['CTE']:\n",
    "        type_d = 'CT-e'\n",
    "        \n",
    "    city = str(values[10])\n",
    "    if not pd.isnull(city):\n",
    "        if '</p>' in city:\n",
    "            city = city[0:city.find('</p>')]\n",
    "    \n",
    "    key = str(values[3])\n",
    "    month_year = np.nan\n",
    "    if not pd.isnull(key):\n",
    "        if len(key) > 0:\n",
    "            if 'CTe' in key:\n",
    "                key = key.replace('CTe', '')\n",
    "                \n",
    "            month_year = '{}/{}'.format(key[4:6], key[2:4])\n",
    "    \n",
    "    oficial_name, nick_name = values[5], values[6]\n",
    "    if '&amp;' in oficial_name or '&amp;' in nick_name:\n",
    "        oficial_name = oficial_name.replace('&amp;', '&')\n",
    "        nick_name = nick_name.replace('&amp;', '&')\n",
    "    \n",
    "    date = str(values[4])\n",
    "    if not pd.isnull(date):\n",
    "        day, month, year = date.split('/')\n",
    "        if len(year) < 4:\n",
    "            year = '19' if int(year) >= 30 else '20' + year;\n",
    "            \n",
    "        if int(day) > 31 or int(month) > 12:\n",
    "            aux = day\n",
    "            day = month\n",
    "            month = aux\n",
    "\n",
    "        day = '0' + day if len(day) < 2 else day\n",
    "        month = '0' + month if len(month) < 2 else month\n",
    "\n",
    "        date = '/'.join([day, month, year])\n",
    "        \n",
    "    register = {'sistema': str(values[0]),\n",
    "                'tipo_nota': type_d,\n",
    "                'nf_nfc_ct': str(values[1]),\n",
    "                'serie': str(values[2]),\n",
    "                'chave': key,\n",
    "                'data': date,\n",
    "                'mes_ano': month_year,\n",
    "                'razao_social': oficial_name,\n",
    "                'nome_fantasia': nick_name,\n",
    "                'CNPJ': str(values[7]),\n",
    "                'endereco': str(values[8]),\n",
    "                'bairro': str(values[9]),\n",
    "                'cidade': city}\n",
    "    \n",
    "    df_list.append(register)\n",
    "    \n",
    "df = pd.DataFrame(df_list)"
   ]
  },
  {
   "cell_type": "code",
   "execution_count": null,
   "id": "b9a76e89",
   "metadata": {},
   "outputs": [],
   "source": [
    "df.head()"
   ]
  },
  {
   "cell_type": "code",
   "execution_count": null,
   "id": "034546bb",
   "metadata": {},
   "outputs": [],
   "source": [
    "df.tail()"
   ]
  },
  {
   "cell_type": "code",
   "execution_count": null,
   "id": "2c8620b6",
   "metadata": {},
   "outputs": [],
   "source": [
    "print('N rows original: {}'.format(df.shape[0]))\n",
    "\n",
    "df_duplicate = df[df.duplicated()]\n",
    "print('N rows duplicate: {}'.format(df_duplicate.shape[0]))\n",
    "\n",
    "df = df.drop_duplicates()\n",
    "print('N rows after drop duplicates: {}'.format(df.shape[0]))"
   ]
  },
  {
   "cell_type": "code",
   "execution_count": null,
   "id": "71e1e1d5",
   "metadata": {},
   "outputs": [],
   "source": [
    "df.to_csv('emails_informations.csv', index=False)"
   ]
  },
  {
   "cell_type": "code",
   "execution_count": null,
   "id": "6193ff3b",
   "metadata": {},
   "outputs": [],
   "source": [
    "df.shape"
   ]
  },
  {
   "cell_type": "code",
   "execution_count": null,
   "id": "9ba0d83e",
   "metadata": {},
   "outputs": [],
   "source": []
  }
 ],
 "metadata": {
  "kernelspec": {
   "display_name": "Python 3",
   "language": "python",
   "name": "python3"
  },
  "language_info": {
   "codemirror_mode": {
    "name": "ipython",
    "version": 3
   },
   "file_extension": ".py",
   "mimetype": "text/x-python",
   "name": "python",
   "nbconvert_exporter": "python",
   "pygments_lexer": "ipython3",
   "version": "3.6.13"
  }
 },
 "nbformat": 4,
 "nbformat_minor": 5
}
