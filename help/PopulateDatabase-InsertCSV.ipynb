{
 "cells": [
  {
   "cell_type": "markdown",
   "id": "4ebba08b",
   "metadata": {},
   "source": [
    "# Script to populate database - 2nd part;\n",
    "\n",
    "## Insert CSV\n",
    "\n",
    "This script get generate CSV in 1st part and insert in database"
   ]
  },
  {
   "cell_type": "markdown",
   "id": "d12bc5a5",
   "metadata": {},
   "source": [
    "## Set external variables"
   ]
  },
  {
   "cell_type": "code",
   "execution_count": null,
   "id": "8d2dd2c2",
   "metadata": {},
   "outputs": [],
   "source": [
    "# server of database;\n",
    "server = \"\"\n",
    "\n",
    "# name of database;\n",
    "database = \"\"\n",
    "\n",
    "# port of database;\n",
    "port = 1433\n",
    "\n",
    "# user of database;\n",
    "user = \"\"\n",
    "\n",
    "# password of password;\n",
    "password = \"\"\n",
    "\n",
    "# csv with 1st part to insert in database;\n",
    "csv_file = \"\"\n",
    "\n",
    "# flag to clear or not table before insert csv data;\n",
    "clear_table = True\n",
    "\n",
    "# Max register insert per time\n",
    "max_insert = 2000"
   ]
  },
  {
   "cell_type": "markdown",
   "id": "f8a85080",
   "metadata": {},
   "source": [
    "## Script"
   ]
  },
  {
   "cell_type": "markdown",
   "id": "c06f8859",
   "metadata": {},
   "source": [
    "### Librarys"
   ]
  },
  {
   "cell_type": "code",
   "execution_count": null,
   "id": "d575051a",
   "metadata": {},
   "outputs": [],
   "source": [
    "import pymssql\n",
    "import pandas as pd\n",
    "import time"
   ]
  },
  {
   "cell_type": "markdown",
   "id": "9a094f86",
   "metadata": {},
   "source": [
    "### Functions"
   ]
  },
  {
   "cell_type": "code",
   "execution_count": null,
   "id": "70e4afa0",
   "metadata": {},
   "outputs": [],
   "source": [
    "def sql_query(sql_query, table_columns):\n",
    "    try:\n",
    "        cursor = connection.cursor()\n",
    "        cursor.execute(sql_query)\n",
    "        row = cursor.fetchone()\n",
    "        response = []\n",
    "        while row:\n",
    "            response.append(row)\n",
    "            row = cursor.fetchone()\n",
    "        return response\n",
    "    except Exception as fail:\n",
    "        raise Exception('exception get sql, fail: {}'.format(fail))"
   ]
  },
  {
   "cell_type": "code",
   "execution_count": null,
   "id": "643c33a8",
   "metadata": {},
   "outputs": [],
   "source": [
    "def sql_execute(sql_script):\n",
    "    try:\n",
    "        cursor = connection.cursor()\n",
    "        cursor.execute(sql_script)\n",
    "        connection.commit()\n",
    "    except Exception as fail:\n",
    "        connection.rollback()\n",
    "        raise Exception('exception update sql {}, fail: {}'.format(sql_script, fail), True)"
   ]
  },
  {
   "cell_type": "code",
   "execution_count": null,
   "id": "78909a64",
   "metadata": {},
   "outputs": [],
   "source": [
    "def sql_execut_emany(sql_script, list_exec, n_errors=0):\n",
    "    try:\n",
    "        cursor = connection.cursor()\n",
    "        cursor.executemany(sql_script, list_exec)\n",
    "        connection.commit()\n",
    "    except Exception as fail:\n",
    "        if n_errors < 5:\n",
    "            print('exception insert fail: {}; Try again soon!'.format(fail))\n",
    "            time.sleep(10)\n",
    "            sql_execut_emany(sql_script, list_exec, n_errors+1)\n",
    "        else:\n",
    "            connection.rollback()\n",
    "            raise Exception('exception update sql {}, fail: {}'.format(\n",
    "                sql_script, fail), True)"
   ]
  },
  {
   "cell_type": "code",
   "execution_count": null,
   "id": "432acd62",
   "metadata": {},
   "outputs": [],
   "source": [
    "def sql_insert(sql_insert, list_inserts):\n",
    "    n = int(len(list_inserts) / max_insert) + 1\n",
    "\n",
    "    for i in range(n):\n",
    "        list_ins_part = list_inserts[max_insert*i: max_insert*(i+1)]\n",
    "        sql_execut_emany(sql_insert, list_ins_part)"
   ]
  },
  {
   "cell_type": "code",
   "execution_count": null,
   "id": "c3ef2a4a",
   "metadata": {},
   "outputs": [],
   "source": [
    "def insert_information(informations):\n",
    "    if not len(informations) > 0:\n",
    "        exit\n",
    "\n",
    "    sql = '''\n",
    "    INSERT INTO EMISSAO_DFE\n",
    "    (EMDF_SISTEMA, EMDF_MODELO, EMDF_DATA_EMISSAO, EMDF_NUMERO, EMDF_SERIE,\n",
    "    EMDF_CHAVE, EMDF_CNPJ, EMDF_RAZAO_SOCIAL, EMDF_FANTASIA, EMDF_ENDERECO,\n",
    "    EMDF_BAIRRO, EMDF_MUNICIPIO)\n",
    "    VALUES(%s, %s, CONVERT(DATETIME, %s, 103), %d, %s, %s, %s, %s, %s, %s, %s, %s)\n",
    "    '''\n",
    "\n",
    "    list_inserts = []\n",
    "    for inf in informations:\n",
    "        new_insert = [value for tag, value in dict(inf).items()]\n",
    "        list_inserts.append(tuple(new_insert))\n",
    "\n",
    "    sql_insert(sql, list_inserts)"
   ]
  },
  {
   "cell_type": "code",
   "execution_count": null,
   "id": "57e1156a",
   "metadata": {},
   "outputs": [],
   "source": [
    "connection = pymssql.connect(host=server, port=port, database=database, user=user, password=password)"
   ]
  },
  {
   "cell_type": "markdown",
   "id": "8ed8704e",
   "metadata": {},
   "source": [
    "### Script"
   ]
  },
  {
   "cell_type": "code",
   "execution_count": null,
   "id": "6a16dc42",
   "metadata": {},
   "outputs": [],
   "source": [
    "df = pd.read_csv(csv_file)\n",
    "df.head()"
   ]
  },
  {
   "cell_type": "code",
   "execution_count": null,
   "id": "efaaf5b1",
   "metadata": {},
   "outputs": [],
   "source": [
    "df.tail()"
   ]
  },
  {
   "cell_type": "code",
   "execution_count": null,
   "id": "44fd1608",
   "metadata": {},
   "outputs": [],
   "source": [
    "print('N rows original: {}'.format(df.shape[0]))\n",
    "\n",
    "df_duplicate = df[df.duplicated()]\n",
    "print('N rows duplicate: {}'.format(df_duplicate.shape[0]))\n",
    "\n",
    "df = df.drop_duplicates()\n",
    "print('N rows after drop duplicates: {}'.format(df.shape[0]))"
   ]
  },
  {
   "cell_type": "code",
   "execution_count": null,
   "id": "13098105",
   "metadata": {},
   "outputs": [],
   "source": [
    "query = '''\n",
    "SELECT *\n",
    "  FROM EMISSAO_DFE\n",
    "'''\n",
    "\n",
    "# query = 'drop table EMISSAO_DFE'\n",
    "# sql_execute(query)\n",
    "\n",
    "# query = '''\n",
    "# CREATE TABLE EMISSAO_DFE(\n",
    "#     EMDF_ID int identity(1,1) not null,\n",
    "#     EMDF_SISTEMA varchar(10) null,\n",
    "#     EMDF_MODELO  varchar(5) null,\n",
    "#     EMDF_DATA_EMISSAO datetime null,\n",
    "#     EMDF_NUMERO int null,\n",
    "#     EMDF_SERIE varchar(3) null,\n",
    "#     EMDF_CHAVE varchar(44) null,\n",
    "#     EMDF_CNPJ varchar(14) null,\n",
    "#     EMDF_RAZAO_SOCIAL varchar(60) null,\n",
    "#     EMDF_FANTASIA varchar(60) null,\n",
    "#     EMDF_ENDERECO varchar(200) null,\n",
    "#     EMDF_BAIRRO varchar(60) null,\n",
    "#     EMDF_MUNICIPIO varchar(60) null\n",
    "# PRIMARY KEY CLUSTERED (\n",
    "#     EMDF_ID ASC\n",
    "# )\n",
    "# WITH (\n",
    "#     PAD_INDEX = OFF,\n",
    "#     STATISTICS_NORECOMPUTE = OFF,\n",
    "#     IGNORE_DUP_KEY = OFF,\n",
    "#     ALLOW_ROW_LOCKS = ON,\n",
    "#     ALLOW_PAGE_LOCKS = ON,\n",
    "#     FILLFACTOR = 90,\n",
    "#     OPTIMIZE_FOR_SEQUENTIAL_KEY = OFF) ON [PRIMARY]\n",
    "# ) ON [PRIMARY]\n",
    "# '''\n",
    "# sql_execute(query)\n",
    "\n",
    "\n",
    "\n",
    "r_query = sql_query(query, '')\n",
    "print(len(r_query))\n",
    "\n",
    "if (len(r_query) > 0) and clear_table:\n",
    "    query = 'DELETE FROM EMISSAO_DFE'\n",
    "    sql_execute(query)\n",
    "    query = 'DBCC CHECKIDENT (EMISSAO_DFE, RESEED, 0)'\n",
    "    sql_execute(query)"
   ]
  },
  {
   "cell_type": "code",
   "execution_count": null,
   "id": "caf6ceaf",
   "metadata": {
    "scrolled": false
   },
   "outputs": [],
   "source": [
    "n_gestNFe, n_StacNFe, n_StacCTe = 0, 0, 0\n",
    "informations = []\n",
    "data_list = []\n",
    "check_list = []\n",
    "for index, value in df.iterrows():\n",
    "    sistema = value.sistema if not pd.isnull(value.sistema) else ''\n",
    "    modelo = value.tipo_nota if not pd.isnull(value.tipo_nota) else ''\n",
    "    data = value.data if not pd.isnull(value.data) else ''\n",
    "    numero = value.nf_nfc_ct if not pd.isnull(value.nf_nfc_ct) else ''\n",
    "    serie = value.serie if not pd.isnull(value.serie) else ''\n",
    "    chave = value.chave if not pd.isnull(value.chave) else ''\n",
    "    cnpj = value.CNPJ if not pd.isnull(value.CNPJ) else ''\n",
    "    razao_social = value.razao_social if not pd.isnull(value.razao_social) else ''\n",
    "    fantasia = value.nome_fantasia if not pd.isnull(value.nome_fantasia) else ''\n",
    "    endereco = value.endereco if not pd.isnull(value.endereco) else ''\n",
    "    bairro = value.bairro if not pd.isnull(value.bairro) else ''\n",
    "    cidade = value.cidade if not pd.isnull(value.cidade) else ''\n",
    "\n",
    "    data_list.append(data)\n",
    "    check_list.append(value.mes_ano)\n",
    "    \n",
    "    n_StacNFe += 1 if sistema == 'StacNFe' else 0\n",
    "    n_StacCTe += 1 if sistema == 'StacCTe' else 0\n",
    "    n_gestNFe += 1 if sistema == 'GestNFe' else 0\n",
    "    \n",
    "    # Tmp aqui, mover para construcao do csv insercao\n",
    "    \n",
    "    if not pd.isnull(data):\n",
    "        day, month, year = data.split('/')\n",
    "        if len(year) < 4:\n",
    "            year = '19' if int(year) >= 30 else '20' + year;\n",
    "            \n",
    "        if int(day) > 31 or int(month) > 12:\n",
    "            aux = day\n",
    "            day = month\n",
    "            month = aux\n",
    "\n",
    "        day = '0' + day if len(day) < 2 else day\n",
    "        month = '0' + month if len(month) < 2 else month\n",
    "\n",
    "        data = '/'.join([day, month, year])\n",
    "\n",
    "    \n",
    "    informations.append({\"EMDF_SISTEMA\": sistema,\n",
    "                         \"EMDF_MODELO\": modelo,\n",
    "                         \"EMDF_DATA_EMISSAO\": data,\n",
    "                         \"EMDF_NUMERO\": numero,\n",
    "                         \"EMDF_SERIE\": serie,\n",
    "                         \"EMDF_CHAVE\": chave,\n",
    "                         \"EMDF_CNPJ\": cnpj,\n",
    "                         \"EMDF_RAZAO_SOCIAL\": razao_social,\n",
    "                         \"EMDF_FANTASIA\": fantasia,\n",
    "                         \"EMDF_ENDERECO\": endereco,\n",
    "                         \"EMDF_BAIRRO\": bairro,\n",
    "                         \"EMDF_MUNICIPIO\": cidade})"
   ]
  },
  {
   "cell_type": "code",
   "execution_count": null,
   "id": "d9bac4bc",
   "metadata": {},
   "outputs": [],
   "source": [
    "print('N register of StacNFe: {}'.format(n_StacNFe))\n",
    "print('N register of StacCTe: {}'.format(n_StacCTe))\n",
    "print('N register of gestNFe: {}'.format(n_gestNFe))\n",
    "print('Total register: {}'.format(n_StacNFe + n_StacCTe + n_gestNFe))"
   ]
  },
  {
   "cell_type": "code",
   "execution_count": null,
   "id": "87b5edf1",
   "metadata": {},
   "outputs": [],
   "source": [
    "insert_information(informations)"
   ]
  },
  {
   "cell_type": "code",
   "execution_count": null,
   "id": "bc4b2e1f",
   "metadata": {},
   "outputs": [],
   "source": []
  }
 ],
 "metadata": {
  "kernelspec": {
   "display_name": "Python 3",
   "language": "python",
   "name": "python3"
  },
  "language_info": {
   "codemirror_mode": {
    "name": "ipython",
    "version": 3
   },
   "file_extension": ".py",
   "mimetype": "text/x-python",
   "name": "python",
   "nbconvert_exporter": "python",
   "pygments_lexer": "ipython3",
   "version": "3.6.13"
  }
 },
 "nbformat": 4,
 "nbformat_minor": 5
}
